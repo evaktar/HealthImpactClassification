{
 "cells": [
  {
   "cell_type": "markdown",
   "id": "bd9051e7",
   "metadata": {},
   "source": [
    "# Health Impact Classification"
   ]
  },
  {
   "cell_type": "markdown",
   "id": "68c0a837",
   "metadata": {},
   "source": [
    "#### Data Description"
   ]
  },
  {
   "cell_type": "markdown",
   "id": "1598d886",
   "metadata": {},
   "source": [
    "##### Record Information\n",
    "RecordID: A unique identifier assigned to each record (1 to 2392).\n",
    "\n",
    "##### Air Quality Metrics\n",
    "AQI: Air Quality Index, a measure of how polluted the air currently is or how polluted it is forecast to become.<br>\n",
    "PM10: Concentration of particulate matter less than 10 micrometers in diameter (μg/m³).<br>\n",
    "PM2_5: Concentration of particulate matter less than 2.5 micrometers in diameter (μg/m³).<br>\n",
    "NO2: Concentration of nitrogen dioxide (ppb).<br>\n",
    "SO2: Concentration of sulfur dioxide (ppb).<br>\n",
    "O3: Concentration of ozone (ppb).<br>\n",
    "\n",
    "##### Weather Conditions\n",
    "Temperature: Temperature in degrees Celsius (°C).<br>\n",
    "Humidity: Humidity percentage (%).<br>\n",
    "WindSpeed: Wind speed in meters per second (m/s).<br>\n",
    "\n",
    "##### Health Impact Metrics\n",
    "RespiratoryCases: Number of respiratory cases reported.<br>\n",
    "CardiovascularCases: Number of cardiovascular cases reported.<br>\n",
    "HospitalAdmissions: Number of hospital admissions reported.<br>\n",
    "\n",
    "##### Target Variable: Health Impact Class\n",
    "HealthImpactScore: A score indicating the overall health impact based on air quality and other related factors, ranging from 0 to 100.<br>\n",
    "HealthImpactClass: Classification of the health impact based on the health impact score:<br>\n",
    "\n",
    "0: 'Very High' (HealthImpactScore >= 80)<br>\n",
    "1: 'High' (60 <= HealthImpactScore < 80)<br>\n",
    "2: 'Moderate' (40 <= HealthImpactScore < 60)<br>\n",
    "3: 'Low' (20 <= HealthImpactScore < 40)<br>\n",
    "4: 'Very Low' (HealthImpactScore < 20)<br>"
   ]
  },
  {
   "cell_type": "markdown",
   "id": "07e3528c",
   "metadata": {},
   "source": [
    "### Set-Up and Load Data"
   ]
  },
  {
   "cell_type": "code",
   "execution_count": null,
   "id": "6e987c64",
   "metadata": {},
   "outputs": [],
   "source": [
    "import pandas as pd\n",
    "import numpy as np\n",
    "import matplotlib as mpl\n",
    "import matplotlib.pyplot as plt\n",
    "import seaborn as sns\n",
    "\n",
    "# Import CSV as dfFrame\n",
    "df = pd.read_csv('df/air_quality_health_impact_data.csv')\n",
    "print(df.head()) # Preview first 5 rows"
   ]
  },
  {
   "cell_type": "code",
   "execution_count": null,
   "id": "312a89dc",
   "metadata": {},
   "outputs": [],
   "source": [
    "# Dataset Size and Structure\n",
    "df.shape  # 5811 rows, 15 columns"
   ]
  },
  {
   "cell_type": "markdown",
   "id": "fb6e4af4",
   "metadata": {},
   "source": [
    "### Pre-Processing"
   ]
  },
  {
   "cell_type": "code",
   "execution_count": null,
   "id": "a5745de2",
   "metadata": {},
   "outputs": [],
   "source": [
    "# No missing values\n",
    "df.isnull().sum()"
   ]
  },
  {
   "cell_type": "code",
   "execution_count": null,
   "id": "7314035f",
   "metadata": {},
   "outputs": [],
   "source": [
    "# Remove identifier, redundant for prediction analysis\n",
    "df = df.drop(columns=[\"RecordID\"], errors=\"ignore\")"
   ]
  },
  {
   "cell_type": "markdown",
   "id": "e895779d",
   "metadata": {},
   "source": [
    "### Exploratory df Analysis (EDA)"
   ]
  },
  {
   "cell_type": "code",
   "execution_count": null,
   "id": "f4dcc0fe",
   "metadata": {},
   "outputs": [],
   "source": [
    "# Datatypes and Missing Values\n",
    "df.info() # Integer - int64(4) and Float - float64(11)"
   ]
  },
  {
   "cell_type": "code",
   "execution_count": null,
   "id": "878755ff",
   "metadata": {},
   "outputs": [],
   "source": [
    "# Statistical Summary\n",
    "df.describe().T # Count, mean, standard devation, minimum, maximum, and quartiles\n",
    "# Central Tendency and Spread of Data"
   ]
  },
  {
   "cell_type": "code",
   "execution_count": null,
   "id": "207e7a3c",
   "metadata": {},
   "outputs": [],
   "source": [
    "df.nunique() # Variety of values and duplicty"
   ]
  },
  {
   "cell_type": "markdown",
   "id": "363644bc",
   "metadata": {},
   "source": [
    "#### Univariate Analysis"
   ]
  },
  {
   "cell_type": "markdown",
   "id": "42e4c76c",
   "metadata": {},
   "source": [
    "##### Numerical Values"
   ]
  },
  {
   "cell_type": "code",
   "execution_count": null,
   "id": "af7b9f43",
   "metadata": {},
   "outputs": [],
   "source": [
    "# Histogram Mean\n",
    "def hist_mean(data, **kwargs):\n",
    "    sns.histplot(data['Value'], kde=True, **kwargs)\n",
    "    plt.axvline(data['Value'].mean(), color='red', linestyle='dashed', linewidth=2) # Mean line\n",
    "\n",
    "# Facet Grids\n",
    "def facet_plots(df, plot_type, col_wrap):\n",
    "\n",
    "    # Melt to long format - categorical column 'Feature' against 'Value'\n",
    "    numeric_df = df.select_dtypes(include='number')  # Excl melted 'Value' cols\n",
    "    df_long = numeric_df.melt(var_name='Feature', value_name='Value')\n",
    "    \n",
    "    # Create FacetGrid\n",
    "    gr = sns.FacetGrid(df_long, col='Feature', col_wrap=col_wrap, sharex=False, sharey=False)\n",
    "    # Plot Type\n",
    "    if plot_type == 'hist': # Histogram\n",
    "        gr.map_dataframe(hist_mean)\n",
    "    if plot_type == 'box': # Boxplot\n",
    "        gr.map(sns.boxplot, 'Value')\n",
    "\n",
    "    # Titles\n",
    "    gr.set_titles(\"{col_name}\")\n",
    "    gr.figure.subplots_adjust(top=0.9)\n",
    "    plt.show()\n",
    "\n",
    "    # WHO recommended standards\n",
    "    # PM2_5 15 μg/m³\n",
    "    # PM10 45 μg/m³\n",
    "    # NO2 25 μg/m³ 13.2 ppb\n",
    "    # SO2 40 μg/m³ 15.3 ppb\n",
    "    # O 15 μg/m³ 7.64 ppb\n"
   ]
  },
  {
   "cell_type": "code",
   "execution_count": null,
   "id": "65c2da07",
   "metadata": {},
   "outputs": [],
   "source": [
    "# Distribution\n",
    "facet_plots(df, 'hist', 7)"
   ]
  },
  {
   "cell_type": "code",
   "execution_count": null,
   "id": "bf7716ef",
   "metadata": {},
   "outputs": [],
   "source": [
    "# Boxplots\n",
    "facet_plots(df, 'box', 7)"
   ]
  },
  {
   "cell_type": "markdown",
   "id": "a9b16e5e",
   "metadata": {},
   "source": [
    "##### Categorial Values"
   ]
  },
  {
   "cell_type": "code",
   "execution_count": null,
   "id": "651dae57",
   "metadata": {},
   "outputs": [],
   "source": [
    "# Health Impact Class\n",
    "# Bar Chart Palette\n",
    "custom_colors = [\"#FF9999\", '#FFCC99', '#FFFF99', '#CCFF99', \"#99FFF0\"]\n",
    "# Plot counts\n",
    "ax = sns.countplot(x='HealthImpactClass', hue='HealthImpactClass', data=df, palette=custom_colors, legend=False)\n",
    "# Title\n",
    "plt.title('Health Impact Class Frequency')\n",
    "# Add count labels \n",
    "for p in ax.patches:\n",
    "    count = int(p.get_height())\n",
    "    ax.annotate(f'{count}', \n",
    "                (p.get_x() + p.get_width() / 2, p.get_height()), \n",
    "                ha='center', va='bottom')\n",
    "ax.set(xlabel='Health Impact Class', ylabel='Count')\n",
    "plt.show()\n",
    "# Data heavily skewed towards health impact of \"Very High\", Health Impact Score >= 80\n",
    "#print(df['HealthImpactClass'].value_counts())"
   ]
  },
  {
   "cell_type": "markdown",
   "id": "dfdd8557",
   "metadata": {},
   "source": [
    "####  Multivariate Analysis"
   ]
  },
  {
   "cell_type": "code",
   "execution_count": null,
   "id": "f08dc875",
   "metadata": {},
   "outputs": [],
   "source": [
    "# Kernel density plot - Understanding variance\n",
    "plt.figure(figsize=(15, len(df) * 3))\n",
    "\n",
    "for idx, feature in enumerate(df, 1):\n",
    "    plt.subplot(len(df), 4, idx)\n",
    "    sns.histplot(df[feature], kde=True)\n",
    "    plt.axvline(df[feature].mean(), color='red', linestyle='dashed', linewidth=2) # Mean Line\n",
    "    plt.title(f\"{feature} | Skewness: {round(df[feature].skew(), 2)}\") # Skewness\n",
    "plt.tight_layout()\n",
    "plt.show()\n",
    "\n",
    "# Cases, Admissions, Health Impact Metrics have highest variance "
   ]
  },
  {
   "cell_type": "markdown",
   "id": "2e09ce4c",
   "metadata": {},
   "source": [
    "##### Correlation HeatMap"
   ]
  },
  {
   "cell_type": "code",
   "execution_count": null,
   "id": "bc664beb",
   "metadata": {},
   "outputs": [],
   "source": [
    "plt.figure(figsize=(15, 10))\n",
    "sns.heatmap(df.corr(), annot=True, fmt='.2f', cmap='Spectral', linewidths=1)\n",
    "plt.title('Correlation Heatmap')\n",
    "plt.show()"
   ]
  },
  {
   "cell_type": "markdown",
   "id": "eb2740bf",
   "metadata": {},
   "source": [
    "##### Pollutants vs Cases and Hospital Admission Rates"
   ]
  },
  {
   "cell_type": "code",
   "execution_count": null,
   "id": "2b3f6088",
   "metadata": {},
   "outputs": [],
   "source": [
    "# Pollutants list\n",
    "pollutants = [\"PM10\",\"PM2_5\", \"NO2\", \"SO2\", \"O3\"]\n",
    "\n",
    "# Pollutant Correlation\n",
    "def polutant_correlations(feature):\n",
    "\n",
    "    correlations = (df[pollutants].corrwith(df[feature])).sort_values() # Calculate correlation\n",
    "    fig, ax = plt.subplots(figsize=(8, 6)) # Barplot\n",
    "    bars = ax.barh(correlations.index, correlations.values, edgecolor='black')\n",
    "    \n",
    "    # Bar Colours vbased on Correlation\n",
    "    vmin, vmax = correlations.min(), correlations.max()\n",
    "    if vmin < 0 and vmax > 0:\n",
    "        # Mixed: Red and Green\n",
    "        divnorm = mpl.colors.TwoSlopeNorm(vmin=vmin, vcenter=0, vmax=vmax)\n",
    "        cmap = plt.cm.RdYlGn\n",
    "    elif vmax <= 0:\n",
    "        # All negative: Red\n",
    "        divnorm = mpl.colors.Normalize(vmin=vmin, vmax=0)\n",
    "        cmap = plt.cm.Reds\n",
    "    else:\n",
    "        # All positive: Green\n",
    "        divnorm = mpl.colors.Normalize(vmin=0, vmax=vmax)\n",
    "        cmap = plt.cm.Greens\n",
    "    \n",
    "    # Apply colour to each bar\n",
    "    div_colors = cmap(divnorm(correlations.values))\n",
    "    for bar, color in zip(bars, div_colors):\n",
    "        bar.set_facecolor(color)\n",
    "\n",
    "    # Add labels and layout\n",
    "    ax.set_xlabel(f\"Pollutant Correlation with {feature}\")\n",
    "    plt.show()\n",
    "polutant_correlations(\"RespiratoryCases\")\n",
    "polutant_correlations(\"CardiovascularCases\")\n",
    "polutant_correlations(\"HospitalAdmissions\")\n",
    "# correlations = df[pollutants].corrwith(df['RespiratoryCases'])\n",
    "# correlations.plot(kind='bar', title='Correlation with Respiratory Cases')\n"
   ]
  },
  {
   "cell_type": "markdown",
   "id": "763c0e96",
   "metadata": {},
   "source": [
    "### Feature Selection"
   ]
  },
  {
   "cell_type": "markdown",
   "id": "fcba7f58",
   "metadata": {},
   "source": [
    "### Training the Model"
   ]
  },
  {
   "cell_type": "markdown",
   "id": "fae8f3dd",
   "metadata": {},
   "source": [
    "### Testing the Model"
   ]
  },
  {
   "cell_type": "markdown",
   "id": "2165313b",
   "metadata": {},
   "source": [
    "### Performance Evaluation"
   ]
  }
 ],
 "metadata": {
  "kernelspec": {
   "display_name": "Python 3",
   "language": "python",
   "name": "python3"
  },
  "language_info": {
   "codemirror_mode": {
    "name": "ipython",
    "version": 3
   },
   "file_extension": ".py",
   "mimetype": "text/x-python",
   "name": "python",
   "nbconvert_exporter": "python",
   "pygments_lexer": "ipython3",
   "version": "3.13.4"
  }
 },
 "nbformat": 4,
 "nbformat_minor": 5
}
