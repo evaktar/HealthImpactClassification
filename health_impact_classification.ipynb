{
 "cells": [
  {
   "cell_type": "markdown",
   "id": "bd9051e7",
   "metadata": {},
   "source": [
    "# Health Impact Classification"
   ]
  },
  {
   "cell_type": "markdown",
   "id": "68c0a837",
   "metadata": {},
   "source": [
    "#### Data Description"
   ]
  },
  {
   "cell_type": "markdown",
   "id": "1598d886",
   "metadata": {},
   "source": [
    "##### Record Information\n",
    "RecordID: A unique identifier assigned to each record (1 to 2392).\n",
    "\n",
    "##### Air Quality Metrics\n",
    "AQI: Air Quality Index, a measure of how polluted the air currently is or how polluted it is forecast to become.<br>\n",
    "PM10: Concentration of particulate matter less than 10 micrometers in diameter (μg/m³).<br>\n",
    "PM2_5: Concentration of particulate matter less than 2.5 micrometers in diameter (μg/m³).<br>\n",
    "NO2: Concentration of nitrogen dioxide (ppb).<br>\n",
    "SO2: Concentration of sulfur dioxide (ppb).<br>\n",
    "O3: Concentration of ozone (ppb).<br>\n",
    "\n",
    "##### Weather Conditions\n",
    "Temperature: Temperature in degrees Celsius (°C).<br>\n",
    "Humidity: Humidity percentage (%).<br>\n",
    "WindSpeed: Wind speed in meters per second (m/s).<br>\n",
    "\n",
    "##### Health Impact Metrics\n",
    "RespiratoryCases: Number of respiratory cases reported.<br>\n",
    "CardiovascularCases: Number of cardiovascular cases reported.<br>\n",
    "HospitalAdmissions: Number of hospital admissions reported.<br>\n",
    "\n",
    "##### Target Variable: Health Impact Class\n",
    "HealthImpactScore: A score indicating the overall health impact based on air quality and other related factors, ranging from 0 to 100.<br>\n",
    "HealthImpactClass: Classification of the health impact based on the health impact score:<br>\n",
    "\n",
    "0: 'Very High' (HealthImpactScore >= 80)<br>\n",
    "1: 'High' (60 <= HealthImpactScore < 80)<br>\n",
    "2: 'Moderate' (40 <= HealthImpactScore < 60)<br>\n",
    "3: 'Low' (20 <= HealthImpactScore < 40)<br>\n",
    "4: 'Very Low' (HealthImpactScore < 20)<br>"
   ]
  },
  {
   "cell_type": "markdown",
   "id": "07e3528c",
   "metadata": {},
   "source": [
    "### Set-Up and Load Data"
   ]
  },
  {
   "cell_type": "code",
   "execution_count": 4,
   "id": "6e987c64",
   "metadata": {},
   "outputs": [
    {
     "name": "stdout",
     "output_type": "stream",
     "text": [
      "   RecordID         AQI        PM10       PM2_5         NO2        SO2  \\\n",
      "0         1  187.270059  295.853039   13.038560    6.639263  66.161150   \n",
      "1         2  475.357153  246.254703    9.984497   16.318326  90.499523   \n",
      "2         3  365.996971   84.443191   23.111340   96.317811  17.875850   \n",
      "3         4  299.329242   21.020609   14.273403   81.234403  48.323616   \n",
      "4         5   78.009320   16.987667  152.111623  121.235461  90.866167   \n",
      "\n",
      "           O3  Temperature   Humidity  WindSpeed  RespiratoryCases  \\\n",
      "0   54.624280     5.150335  84.424344   6.137755                 7   \n",
      "1  169.621728     1.543378  46.851415   4.521422                10   \n",
      "2    9.006794     1.169483  17.806977  11.157384                13   \n",
      "3   93.161033    21.925276  99.473373  15.302500                 8   \n",
      "4  241.795138     9.217517  24.906837  14.534733                 9   \n",
      "\n",
      "   CardiovascularCases  HospitalAdmissions  HealthImpactScore  \\\n",
      "0                    5                   1          97.244041   \n",
      "1                    2                   0         100.000000   \n",
      "2                    3                   0         100.000000   \n",
      "3                    8                   1         100.000000   \n",
      "4                    0                   1          95.182643   \n",
      "\n",
      "   HealthImpactClass  \n",
      "0                  0  \n",
      "1                  0  \n",
      "2                  0  \n",
      "3                  0  \n",
      "4                  0  \n"
     ]
    }
   ],
   "source": [
    "import pandas as pd\n",
    "import numpy as np\n",
    "import matplotlib.pyplot as plt\n",
    "import seaborn as sns\n",
    "import warnings as wr\n",
    "\n",
    "# Import CSV as DataFrame\n",
    "df = pd.read_csv('data/air_quality_health_impact_data.csv')\n",
    "print(df.head()) # Preview first 5 rows"
   ]
  },
  {
   "cell_type": "code",
   "execution_count": null,
   "id": "312a89dc",
   "metadata": {},
   "outputs": [],
   "source": [
    "# Dataset Size and Structure\n",
    "df.shape  # 5811 rows, 15 columns"
   ]
  },
  {
   "cell_type": "markdown",
   "id": "fb6e4af4",
   "metadata": {},
   "source": [
    "### Pre-Processing"
   ]
  },
  {
   "cell_type": "code",
   "execution_count": null,
   "id": "a5745de2",
   "metadata": {},
   "outputs": [],
   "source": [
    "# No missing values\n",
    "df.isnull().sum()"
   ]
  },
  {
   "cell_type": "code",
   "execution_count": 12,
   "id": "7314035f",
   "metadata": {},
   "outputs": [],
   "source": [
    "# Remove identifier, redundant for prediction analysis\n",
    "df = df.drop(columns=[\"RecordID\"], errors=\"ignore\")"
   ]
  },
  {
   "cell_type": "markdown",
   "id": "e895779d",
   "metadata": {},
   "source": [
    "### Exploratory Data Analysis (EDA)"
   ]
  },
  {
   "cell_type": "code",
   "execution_count": 9,
   "id": "f4dcc0fe",
   "metadata": {},
   "outputs": [
    {
     "name": "stdout",
     "output_type": "stream",
     "text": [
      "<class 'pandas.core.frame.DataFrame'>\n",
      "RangeIndex: 5811 entries, 0 to 5810\n",
      "Data columns (total 15 columns):\n",
      " #   Column               Non-Null Count  Dtype  \n",
      "---  ------               --------------  -----  \n",
      " 0   RecordID             5811 non-null   int64  \n",
      " 1   AQI                  5811 non-null   float64\n",
      " 2   PM10                 5811 non-null   float64\n",
      " 3   PM2_5                5811 non-null   float64\n",
      " 4   NO2                  5811 non-null   float64\n",
      " 5   SO2                  5811 non-null   float64\n",
      " 6   O3                   5811 non-null   float64\n",
      " 7   Temperature          5811 non-null   float64\n",
      " 8   Humidity             5811 non-null   float64\n",
      " 9   WindSpeed            5811 non-null   float64\n",
      " 10  RespiratoryCases     5811 non-null   int64  \n",
      " 11  CardiovascularCases  5811 non-null   int64  \n",
      " 12  HospitalAdmissions   5811 non-null   int64  \n",
      " 13  HealthImpactScore    5811 non-null   float64\n",
      " 14  HealthImpactClass    5811 non-null   int64  \n",
      "dtypes: float64(10), int64(5)\n",
      "memory usage: 681.1 KB\n"
     ]
    }
   ],
   "source": [
    "# Datatypes and Missing Values\n",
    "df.info() # Integer - int64(4) and Float - float64(11)"
   ]
  },
  {
   "cell_type": "code",
   "execution_count": null,
   "id": "878755ff",
   "metadata": {},
   "outputs": [],
   "source": [
    "# Statistical Summary\n",
    "df.describe().T # Count, mean, standard devation, minimum, maximum, and quartiles\n",
    "# Central Tendency and Spread of Data"
   ]
  },
  {
   "cell_type": "code",
   "execution_count": null,
   "id": "207e7a3c",
   "metadata": {},
   "outputs": [],
   "source": [
    "df.nunique() # Variety of values and duplicty"
   ]
  },
  {
   "cell_type": "markdown",
   "id": "363644bc",
   "metadata": {},
   "source": [
    "#### Univariate Analysis"
   ]
  },
  {
   "cell_type": "markdown",
   "id": "42e4c76c",
   "metadata": {},
   "source": [
    "##### Numerical Values"
   ]
  },
  {
   "cell_type": "code",
   "execution_count": null,
   "id": "65c2da07",
   "metadata": {},
   "outputs": [],
   "source": [
    "# Distribution\n",
    "# sns.histplot(df['AQI'], kde=True)\n",
    "# plt.title('AQI Distribution')\n",
    "# plt.show()"
   ]
  },
  {
   "cell_type": "code",
   "execution_count": null,
   "id": "bf7716ef",
   "metadata": {},
   "outputs": [],
   "source": [
    "# Boxplots\n",
    "# sns.boxplot(x=df['PM2_5'])\n",
    "# plt.title('PM2.5 Spread and Outliers')\n",
    "# plt.show()"
   ]
  },
  {
   "cell_type": "markdown",
   "id": "a9b16e5e",
   "metadata": {},
   "source": [
    "##### Categorial Values"
   ]
  },
  {
   "cell_type": "code",
   "execution_count": null,
   "id": "651dae57",
   "metadata": {},
   "outputs": [
    {
     "data": {
      "image/png": "[encoded data removed]",
      "text/plain": [
       "<Figure size 640x480 with 1 Axes>"
      ]
     },
     "metadata": {},
     "output_type": "display_data"
    }
   ],
   "source": [
    "# Health Impact Class\n",
    "# Bar Chart Palette\n",
    "custom_colors = [\"#FF9999\", '#FFCC99', '#FFFF99', '#CCFF99', \"#99FFF0\"]\n",
    "# Plot counts\n",
    "ax = sns.countplot(x='HealthImpactClass', hue='HealthImpactClass', data=df, palette=custom_colors, legend=False)\n",
    "# Title\n",
    "plt.title('Health Impact Class Frequency')\n",
    "# Add count labels \n",
    "for p in ax.patches:\n",
    "    count = int(p.get_height())\n",
    "    ax.annotate(f'{count}', \n",
    "                (p.get_x() + p.get_width() / 2, p.get_height()), \n",
    "                ha='center', va='bottom', \n",
    "                fontsize=9, color='black')\n",
    "ax.set(xlabel='Health Impact Class', ylabel='Count')\n",
    "plt.show()\n",
    "# Data heavily skewed towards health impact of \n",
    "#print(df['HealthImpactClass'].value_counts())"
   ]
  },
  {
   "cell_type": "markdown",
   "id": "a05fce94",
   "metadata": {},
   "source": [
    "### Bivariate Analysis"
   ]
  },
  {
   "cell_type": "markdown",
   "id": "dfdd8557",
   "metadata": {},
   "source": [
    "Multivariate Analysis"
   ]
  },
  {
   "cell_type": "code",
   "execution_count": null,
   "id": "4096e2a9",
   "metadata": {},
   "outputs": [],
   "source": [
    "# Kernel density plot - Understanding variance\n",
    "sns.set_style(\"darkgrid\")\n",
    "\n",
    "numerical_columns = df.select_dtypes(include=[\"int64\", \"float64\"]).columns\n",
    "\n",
    "plt.figure(figsize=(14, len(numerical_columns) * 3))\n",
    "for idx, feature in enumerate(numerical_columns, 1):\n",
    "    plt.subplot(len(numerical_columns), 2, idx)\n",
    "    sns.histplot(df[feature], kde=True)\n",
    "    plt.title(f\"{feature} | Skewness: {round(df[feature].skew(), 2)}\")\n",
    "\n",
    "plt.tight_layout()\n",
    "plt.show()"
   ]
  },
  {
   "cell_type": "code",
   "execution_count": null,
   "id": "8e302da0",
   "metadata": {},
   "outputs": [],
   "source": [
    "plt.figure(figsize=(15, 10))\n",
    "\n",
    "sns.heatmap(df.corr(), annot=True, fmt='.2f', cmap='Pastel2', linewidths=2)\n",
    "\n",
    "plt.title('Correlation Heatmap')\n",
    "plt.show()"
   ]
  },
  {
   "cell_type": "markdown",
   "id": "763c0e96",
   "metadata": {},
   "source": [
    "### Feature Selection"
   ]
  },
  {
   "cell_type": "markdown",
   "id": "fcba7f58",
   "metadata": {},
   "source": [
    "### Training the Model"
   ]
  },
  {
   "cell_type": "markdown",
   "id": "fae8f3dd",
   "metadata": {},
   "source": [
    "### Testing the Model"
   ]
  },
  {
   "cell_type": "markdown",
   "id": "2165313b",
   "metadata": {},
   "source": [
    "### Performance Evaluation"
   ]
  }
 ],
 "metadata": {
  "kernelspec": {
   "display_name": "Python 3",
   "language": "python",
   "name": "python3"
  },
  "language_info": {
   "codemirror_mode": {
    "name": "ipython",
    "version": 3
   },
   "file_extension": ".py",
   "mimetype": "text/x-python",
   "name": "python",
   "nbconvert_exporter": "python",
   "pygments_lexer": "ipython3",
   "version": "3.13.4"
  }
 },
 "nbformat": 4,
 "nbformat_minor": 5
}
